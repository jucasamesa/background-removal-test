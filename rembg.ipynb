{
  "nbformat": 4,
  "nbformat_minor": 0,
  "metadata": {
    "colab": {
      "provenance": [],
      "gpuType": "T4"
    },
    "kernelspec": {
      "name": "python3",
      "display_name": "Python 3"
    },
    "language_info": {
      "name": "python"
    },
    "accelerator": "GPU"
  },
  "cells": [
    {
      "cell_type": "code",
      "execution_count": 3,
      "metadata": {
        "colab": {
          "base_uri": "https://localhost:8080/"
        },
        "id": "hF9llNyHkiRB",
        "outputId": "bd4e1cc0-f871-4c3f-d6e3-b503fe170f71"
      },
      "outputs": [
      ],
      "source": [
        "! pip install \"rembg[gpu,cli]\"\n",
        "! git clone https://huggingface.co/spaces/KenjieDec/RemBG\n",
        "%cd RemBG\n",
        "!python app.py"
      ]
    }
  ]
}
